{
  "nbformat": 4,
  "nbformat_minor": 0,
  "metadata": {
    "kernelspec": {
      "display_name": "Python 3",
      "language": "python",
      "name": "python3"
    },
    "language_info": {
      "codemirror_mode": {
        "name": "ipython",
        "version": 3
      },
      "file_extension": ".py",
      "mimetype": "text/x-python",
      "name": "python",
      "nbconvert_exporter": "python",
      "pygments_lexer": "ipython3",
      "version": "3.8.3"
    },
    "colab": {
      "name": "Internship-task.ipynb",
      "provenance": [],
      "include_colab_link": true
    }
  },
  "cells": [
    {
      "cell_type": "markdown",
      "metadata": {
        "id": "view-in-github",
        "colab_type": "text"
      },
      "source": [
        "<a href=\"https://colab.research.google.com/github/SamikshaBhavsar/Internship/blob/main/Internship_task.ipynb\" target=\"_parent\"><img src=\"https://colab.research.google.com/assets/colab-badge.svg\" alt=\"Open In Colab\"/></a>"
      ]
    },
    {
      "cell_type": "code",
      "metadata": {
        "id": "L1JheOoHlbDF"
      },
      "source": [
        "#Import libraries\n",
        "\n",
        "import pandas as pd\n",
        "import numpy as np\n",
        "import matplotlib.pyplot as plt\n",
        "import seaborn as sns\n",
        "import datetime as dt"
      ],
      "execution_count": null,
      "outputs": []
    },
    {
      "cell_type": "code",
      "metadata": {
        "id": "lIhgGuQKlbDI"
      },
      "source": [
        "#load the dataset \n",
        "\n",
        "df = pd.read_csv(\"AC_Data(1).csv\")"
      ],
      "execution_count": null,
      "outputs": []
    },
    {
      "cell_type": "code",
      "metadata": {
        "colab": {
          "base_uri": "https://localhost:8080/",
          "height": 411
        },
        "id": "tj3GD6gulbDJ",
        "outputId": "685b0b9b-2d6c-44a6-c558-848479eb9669"
      },
      "source": [
        "df.head()"
      ],
      "execution_count": null,
      "outputs": [
        {
          "output_type": "execute_result",
          "data": {
            "text/html": [
              "<div>\n",
              "<style scoped>\n",
              "    .dataframe tbody tr th:only-of-type {\n",
              "        vertical-align: middle;\n",
              "    }\n",
              "\n",
              "    .dataframe tbody tr th {\n",
              "        vertical-align: top;\n",
              "    }\n",
              "\n",
              "    .dataframe thead th {\n",
              "        text-align: right;\n",
              "    }\n",
              "</style>\n",
              "<table border=\"1\" class=\"dataframe\">\n",
              "  <thead>\n",
              "    <tr style=\"text-align: right;\">\n",
              "      <th></th>\n",
              "      <th>0</th>\n",
              "      <th>AC 1</th>\n",
              "      <th>AC 2</th>\n",
              "      <th>AC 3</th>\n",
              "      <th>AC 4</th>\n",
              "      <th>AC 5</th>\n",
              "      <th>AC 6</th>\n",
              "      <th>AC 7</th>\n",
              "      <th>AC 8</th>\n",
              "      <th>AC 9</th>\n",
              "      <th>AC 10</th>\n",
              "      <th>AC 11</th>\n",
              "      <th>AC 12</th>\n",
              "      <th>AC 13</th>\n",
              "      <th>AC 14</th>\n",
              "      <th>AC 15</th>\n",
              "      <th>AC 16</th>\n",
              "      <th>AC 17</th>\n",
              "      <th>AC 18</th>\n",
              "    </tr>\n",
              "  </thead>\n",
              "  <tbody>\n",
              "    <tr>\n",
              "      <th>0</th>\n",
              "      <td>2019-08-01 00:00:00</td>\n",
              "      <td>7.518632</td>\n",
              "      <td>8.788315</td>\n",
              "      <td>0.0</td>\n",
              "      <td>0.0</td>\n",
              "      <td>2.617045</td>\n",
              "      <td>4.079041</td>\n",
              "      <td>2.782276</td>\n",
              "      <td>4.624447</td>\n",
              "      <td>5.222060</td>\n",
              "      <td>2.151238</td>\n",
              "      <td>1.585072</td>\n",
              "      <td>0.560373</td>\n",
              "      <td>3.142941</td>\n",
              "      <td>2.749470</td>\n",
              "      <td>5.417774</td>\n",
              "      <td>4.113460</td>\n",
              "      <td>3.305072</td>\n",
              "      <td>6.735981</td>\n",
              "    </tr>\n",
              "    <tr>\n",
              "      <th>1</th>\n",
              "      <td>2019-08-01 00:01:00</td>\n",
              "      <td>NaN</td>\n",
              "      <td>NaN</td>\n",
              "      <td>NaN</td>\n",
              "      <td>NaN</td>\n",
              "      <td>NaN</td>\n",
              "      <td>NaN</td>\n",
              "      <td>NaN</td>\n",
              "      <td>NaN</td>\n",
              "      <td>NaN</td>\n",
              "      <td>NaN</td>\n",
              "      <td>NaN</td>\n",
              "      <td>NaN</td>\n",
              "      <td>NaN</td>\n",
              "      <td>NaN</td>\n",
              "      <td>NaN</td>\n",
              "      <td>NaN</td>\n",
              "      <td>NaN</td>\n",
              "      <td>NaN</td>\n",
              "    </tr>\n",
              "    <tr>\n",
              "      <th>2</th>\n",
              "      <td>2019-08-01 00:02:00</td>\n",
              "      <td>7.426114</td>\n",
              "      <td>8.940615</td>\n",
              "      <td>0.0</td>\n",
              "      <td>0.0</td>\n",
              "      <td>2.581625</td>\n",
              "      <td>3.781231</td>\n",
              "      <td>2.529366</td>\n",
              "      <td>5.057423</td>\n",
              "      <td>5.349465</td>\n",
              "      <td>2.414715</td>\n",
              "      <td>2.168184</td>\n",
              "      <td>1.818730</td>\n",
              "      <td>3.085110</td>\n",
              "      <td>2.720484</td>\n",
              "      <td>3.302422</td>\n",
              "      <td>3.986483</td>\n",
              "      <td>3.220588</td>\n",
              "      <td>6.379500</td>\n",
              "    </tr>\n",
              "    <tr>\n",
              "      <th>3</th>\n",
              "      <td>2019-08-01 00:03:00</td>\n",
              "      <td>NaN</td>\n",
              "      <td>NaN</td>\n",
              "      <td>NaN</td>\n",
              "      <td>NaN</td>\n",
              "      <td>NaN</td>\n",
              "      <td>NaN</td>\n",
              "      <td>NaN</td>\n",
              "      <td>NaN</td>\n",
              "      <td>NaN</td>\n",
              "      <td>NaN</td>\n",
              "      <td>NaN</td>\n",
              "      <td>NaN</td>\n",
              "      <td>NaN</td>\n",
              "      <td>NaN</td>\n",
              "      <td>NaN</td>\n",
              "      <td>NaN</td>\n",
              "      <td>NaN</td>\n",
              "      <td>NaN</td>\n",
              "    </tr>\n",
              "    <tr>\n",
              "      <th>4</th>\n",
              "      <td>2019-08-01 00:04:00</td>\n",
              "      <td>7.052986</td>\n",
              "      <td>9.161103</td>\n",
              "      <td>0.0</td>\n",
              "      <td>0.0</td>\n",
              "      <td>2.592095</td>\n",
              "      <td>3.800127</td>\n",
              "      <td>2.332304</td>\n",
              "      <td>6.322521</td>\n",
              "      <td>3.995392</td>\n",
              "      <td>2.237114</td>\n",
              "      <td>3.345624</td>\n",
              "      <td>2.310409</td>\n",
              "      <td>3.132799</td>\n",
              "      <td>2.676861</td>\n",
              "      <td>3.539026</td>\n",
              "      <td>3.797881</td>\n",
              "      <td>3.131560</td>\n",
              "      <td>6.363475</td>\n",
              "    </tr>\n",
              "  </tbody>\n",
              "</table>\n",
              "</div>"
            ],
            "text/plain": [
              "                     0      AC 1      AC 2  ...     AC 16     AC 17     AC 18\n",
              "0  2019-08-01 00:00:00  7.518632  8.788315  ...  4.113460  3.305072  6.735981\n",
              "1  2019-08-01 00:01:00       NaN       NaN  ...       NaN       NaN       NaN\n",
              "2  2019-08-01 00:02:00  7.426114  8.940615  ...  3.986483  3.220588  6.379500\n",
              "3  2019-08-01 00:03:00       NaN       NaN  ...       NaN       NaN       NaN\n",
              "4  2019-08-01 00:04:00  7.052986  9.161103  ...  3.797881  3.131560  6.363475\n",
              "\n",
              "[5 rows x 19 columns]"
            ]
          },
          "metadata": {},
          "execution_count": 8
        }
      ]
    },
    {
      "cell_type": "code",
      "metadata": {
        "colab": {
          "base_uri": "https://localhost:8080/"
        },
        "id": "6O0XuKGflbDK",
        "outputId": "c7cbd411-0786-49b1-dd7e-16b87b8f6057"
      },
      "source": [
        "df.info()"
      ],
      "execution_count": null,
      "outputs": [
        {
          "output_type": "stream",
          "name": "stdout",
          "text": [
            "<class 'pandas.core.frame.DataFrame'>\n",
            "RangeIndex: 87840 entries, 0 to 87839\n",
            "Data columns (total 19 columns):\n",
            " #   Column  Non-Null Count  Dtype  \n",
            "---  ------  --------------  -----  \n",
            " 0   0       87840 non-null  object \n",
            " 1   AC 1    43708 non-null  float64\n",
            " 2   AC 2    43711 non-null  float64\n",
            " 3   AC 3    43713 non-null  float64\n",
            " 4   AC 4    43704 non-null  float64\n",
            " 5   AC 5    43716 non-null  float64\n",
            " 6   AC 6    43717 non-null  float64\n",
            " 7   AC 7    43679 non-null  float64\n",
            " 8   AC 8    43704 non-null  float64\n",
            " 9   AC 9    43654 non-null  float64\n",
            " 10  AC 10   43690 non-null  float64\n",
            " 11  AC 11   43670 non-null  float64\n",
            " 12  AC 12   43713 non-null  float64\n",
            " 13  AC 13   43719 non-null  float64\n",
            " 14  AC 14   43696 non-null  float64\n",
            " 15  AC 15   43715 non-null  float64\n",
            " 16  AC 16   43710 non-null  float64\n",
            " 17  AC 17   43714 non-null  float64\n",
            " 18  AC 18   43723 non-null  float64\n",
            "dtypes: float64(18), object(1)\n",
            "memory usage: 12.7+ MB\n"
          ]
        }
      ]
    },
    {
      "cell_type": "code",
      "metadata": {
        "colab": {
          "base_uri": "https://localhost:8080/",
          "height": 317
        },
        "id": "TWy_1nbIlbDL",
        "outputId": "fb7ee91b-c78e-4cff-9d59-d24ffc0edda0"
      },
      "source": [
        "#check the statistics \n",
        "df.describe()"
      ],
      "execution_count": null,
      "outputs": [
        {
          "output_type": "execute_result",
          "data": {
            "text/html": [
              "<div>\n",
              "<style scoped>\n",
              "    .dataframe tbody tr th:only-of-type {\n",
              "        vertical-align: middle;\n",
              "    }\n",
              "\n",
              "    .dataframe tbody tr th {\n",
              "        vertical-align: top;\n",
              "    }\n",
              "\n",
              "    .dataframe thead th {\n",
              "        text-align: right;\n",
              "    }\n",
              "</style>\n",
              "<table border=\"1\" class=\"dataframe\">\n",
              "  <thead>\n",
              "    <tr style=\"text-align: right;\">\n",
              "      <th></th>\n",
              "      <th>AC 1</th>\n",
              "      <th>AC 2</th>\n",
              "      <th>AC 3</th>\n",
              "      <th>AC 4</th>\n",
              "      <th>AC 5</th>\n",
              "      <th>AC 6</th>\n",
              "      <th>AC 7</th>\n",
              "      <th>AC 8</th>\n",
              "      <th>AC 9</th>\n",
              "      <th>AC 10</th>\n",
              "      <th>AC 11</th>\n",
              "      <th>AC 12</th>\n",
              "      <th>AC 13</th>\n",
              "      <th>AC 14</th>\n",
              "      <th>AC 15</th>\n",
              "      <th>AC 16</th>\n",
              "      <th>AC 17</th>\n",
              "      <th>AC 18</th>\n",
              "    </tr>\n",
              "  </thead>\n",
              "  <tbody>\n",
              "    <tr>\n",
              "      <th>count</th>\n",
              "      <td>43708.000000</td>\n",
              "      <td>43711.000000</td>\n",
              "      <td>43713.000000</td>\n",
              "      <td>43704.000000</td>\n",
              "      <td>43716.000000</td>\n",
              "      <td>43717.000000</td>\n",
              "      <td>43679.000000</td>\n",
              "      <td>43704.000000</td>\n",
              "      <td>43654.000000</td>\n",
              "      <td>43690.000000</td>\n",
              "      <td>43670.000000</td>\n",
              "      <td>43713.000000</td>\n",
              "      <td>43719.000000</td>\n",
              "      <td>43696.000000</td>\n",
              "      <td>43715.000000</td>\n",
              "      <td>43710.000000</td>\n",
              "      <td>43714.000000</td>\n",
              "      <td>43723.000000</td>\n",
              "    </tr>\n",
              "    <tr>\n",
              "      <th>mean</th>\n",
              "      <td>2.379368</td>\n",
              "      <td>3.868892</td>\n",
              "      <td>2.568411</td>\n",
              "      <td>2.395158</td>\n",
              "      <td>1.421699</td>\n",
              "      <td>2.518138</td>\n",
              "      <td>2.980883</td>\n",
              "      <td>2.548711</td>\n",
              "      <td>3.184382</td>\n",
              "      <td>1.538344</td>\n",
              "      <td>2.406141</td>\n",
              "      <td>2.699639</td>\n",
              "      <td>4.279893</td>\n",
              "      <td>2.917122</td>\n",
              "      <td>4.046283</td>\n",
              "      <td>2.800050</td>\n",
              "      <td>4.218979</td>\n",
              "      <td>6.462676</td>\n",
              "    </tr>\n",
              "    <tr>\n",
              "      <th>std</th>\n",
              "      <td>2.276782</td>\n",
              "      <td>2.545147</td>\n",
              "      <td>1.487508</td>\n",
              "      <td>1.797529</td>\n",
              "      <td>0.767218</td>\n",
              "      <td>1.655560</td>\n",
              "      <td>1.473498</td>\n",
              "      <td>1.504482</td>\n",
              "      <td>1.522291</td>\n",
              "      <td>0.685461</td>\n",
              "      <td>1.554481</td>\n",
              "      <td>1.436087</td>\n",
              "      <td>1.847168</td>\n",
              "      <td>1.454946</td>\n",
              "      <td>2.016898</td>\n",
              "      <td>1.606239</td>\n",
              "      <td>1.125491</td>\n",
              "      <td>2.319242</td>\n",
              "    </tr>\n",
              "    <tr>\n",
              "      <th>min</th>\n",
              "      <td>0.000000</td>\n",
              "      <td>0.000000</td>\n",
              "      <td>0.000000</td>\n",
              "      <td>0.000000</td>\n",
              "      <td>0.000000</td>\n",
              "      <td>0.000000</td>\n",
              "      <td>0.000000</td>\n",
              "      <td>0.000000</td>\n",
              "      <td>0.000000</td>\n",
              "      <td>0.000000</td>\n",
              "      <td>0.000000</td>\n",
              "      <td>0.000000</td>\n",
              "      <td>0.000000</td>\n",
              "      <td>0.000000</td>\n",
              "      <td>0.000000</td>\n",
              "      <td>0.000000</td>\n",
              "      <td>0.000000</td>\n",
              "      <td>0.000000</td>\n",
              "    </tr>\n",
              "    <tr>\n",
              "      <th>25%</th>\n",
              "      <td>0.000000</td>\n",
              "      <td>2.123263</td>\n",
              "      <td>1.706508</td>\n",
              "      <td>1.258299</td>\n",
              "      <td>0.970744</td>\n",
              "      <td>1.543779</td>\n",
              "      <td>2.190803</td>\n",
              "      <td>1.766230</td>\n",
              "      <td>2.294635</td>\n",
              "      <td>1.117139</td>\n",
              "      <td>1.591748</td>\n",
              "      <td>1.949729</td>\n",
              "      <td>3.260674</td>\n",
              "      <td>1.852981</td>\n",
              "      <td>3.023501</td>\n",
              "      <td>1.877626</td>\n",
              "      <td>3.752478</td>\n",
              "      <td>4.013579</td>\n",
              "    </tr>\n",
              "    <tr>\n",
              "      <th>50%</th>\n",
              "      <td>2.094330</td>\n",
              "      <td>3.791752</td>\n",
              "      <td>2.486992</td>\n",
              "      <td>2.308961</td>\n",
              "      <td>1.380183</td>\n",
              "      <td>2.665063</td>\n",
              "      <td>3.005071</td>\n",
              "      <td>2.608551</td>\n",
              "      <td>3.082134</td>\n",
              "      <td>1.504554</td>\n",
              "      <td>2.351361</td>\n",
              "      <td>2.727152</td>\n",
              "      <td>4.217381</td>\n",
              "      <td>2.787084</td>\n",
              "      <td>4.001279</td>\n",
              "      <td>2.673698</td>\n",
              "      <td>4.611434</td>\n",
              "      <td>7.131194</td>\n",
              "    </tr>\n",
              "    <tr>\n",
              "      <th>75%</th>\n",
              "      <td>3.661752</td>\n",
              "      <td>5.460892</td>\n",
              "      <td>3.441527</td>\n",
              "      <td>3.476123</td>\n",
              "      <td>1.870234</td>\n",
              "      <td>3.616988</td>\n",
              "      <td>3.897857</td>\n",
              "      <td>3.496358</td>\n",
              "      <td>4.096374</td>\n",
              "      <td>1.963707</td>\n",
              "      <td>3.254937</td>\n",
              "      <td>3.566744</td>\n",
              "      <td>5.379832</td>\n",
              "      <td>3.824467</td>\n",
              "      <td>5.260193</td>\n",
              "      <td>3.695294</td>\n",
              "      <td>4.958306</td>\n",
              "      <td>8.314639</td>\n",
              "    </tr>\n",
              "    <tr>\n",
              "      <th>max</th>\n",
              "      <td>11.194789</td>\n",
              "      <td>11.147141</td>\n",
              "      <td>8.430909</td>\n",
              "      <td>9.879500</td>\n",
              "      <td>5.495358</td>\n",
              "      <td>9.929291</td>\n",
              "      <td>9.356776</td>\n",
              "      <td>9.331506</td>\n",
              "      <td>10.026747</td>\n",
              "      <td>4.625030</td>\n",
              "      <td>10.363151</td>\n",
              "      <td>9.887306</td>\n",
              "      <td>9.796393</td>\n",
              "      <td>9.054969</td>\n",
              "      <td>10.349998</td>\n",
              "      <td>10.654430</td>\n",
              "      <td>5.950261</td>\n",
              "      <td>11.040031</td>\n",
              "    </tr>\n",
              "  </tbody>\n",
              "</table>\n",
              "</div>"
            ],
            "text/plain": [
              "               AC 1          AC 2  ...         AC 17         AC 18\n",
              "count  43708.000000  43711.000000  ...  43714.000000  43723.000000\n",
              "mean       2.379368      3.868892  ...      4.218979      6.462676\n",
              "std        2.276782      2.545147  ...      1.125491      2.319242\n",
              "min        0.000000      0.000000  ...      0.000000      0.000000\n",
              "25%        0.000000      2.123263  ...      3.752478      4.013579\n",
              "50%        2.094330      3.791752  ...      4.611434      7.131194\n",
              "75%        3.661752      5.460892  ...      4.958306      8.314639\n",
              "max       11.194789     11.147141  ...      5.950261     11.040031\n",
              "\n",
              "[8 rows x 18 columns]"
            ]
          },
          "metadata": {},
          "execution_count": 10
        }
      ]
    },
    {
      "cell_type": "code",
      "metadata": {
        "colab": {
          "base_uri": "https://localhost:8080/"
        },
        "id": "hGc42NlYlbDL",
        "outputId": "94d08659-39fb-4c52-d7e4-6137abd817a3"
      },
      "source": [
        "#fixing the data type for date column\n",
        "df['Date']= pd.to_datetime(df['0'])\n",
        "print(df['Date'].head())"
      ],
      "execution_count": null,
      "outputs": [
        {
          "output_type": "stream",
          "name": "stdout",
          "text": [
            "0   2019-08-01 00:00:00\n",
            "1   2019-08-01 00:01:00\n",
            "2   2019-08-01 00:02:00\n",
            "3   2019-08-01 00:03:00\n",
            "4   2019-08-01 00:04:00\n",
            "Name: Date, dtype: datetime64[ns]\n"
          ]
        }
      ]
    },
    {
      "cell_type": "code",
      "metadata": {
        "colab": {
          "base_uri": "https://localhost:8080/",
          "height": 442
        },
        "id": "TQguI0C2lbDM",
        "outputId": "0a7f86fd-6bc6-4004-a5a3-3e31d35865f3"
      },
      "source": [
        "#making date as index\n",
        "df.set_index(df['Date'],inplace=True)\n",
        "df.head()"
      ],
      "execution_count": null,
      "outputs": [
        {
          "output_type": "execute_result",
          "data": {
            "text/html": [
              "<div>\n",
              "<style scoped>\n",
              "    .dataframe tbody tr th:only-of-type {\n",
              "        vertical-align: middle;\n",
              "    }\n",
              "\n",
              "    .dataframe tbody tr th {\n",
              "        vertical-align: top;\n",
              "    }\n",
              "\n",
              "    .dataframe thead th {\n",
              "        text-align: right;\n",
              "    }\n",
              "</style>\n",
              "<table border=\"1\" class=\"dataframe\">\n",
              "  <thead>\n",
              "    <tr style=\"text-align: right;\">\n",
              "      <th></th>\n",
              "      <th>0</th>\n",
              "      <th>AC 1</th>\n",
              "      <th>AC 2</th>\n",
              "      <th>AC 3</th>\n",
              "      <th>AC 4</th>\n",
              "      <th>AC 5</th>\n",
              "      <th>AC 6</th>\n",
              "      <th>AC 7</th>\n",
              "      <th>AC 8</th>\n",
              "      <th>AC 9</th>\n",
              "      <th>AC 10</th>\n",
              "      <th>AC 11</th>\n",
              "      <th>AC 12</th>\n",
              "      <th>AC 13</th>\n",
              "      <th>AC 14</th>\n",
              "      <th>AC 15</th>\n",
              "      <th>AC 16</th>\n",
              "      <th>AC 17</th>\n",
              "      <th>AC 18</th>\n",
              "      <th>Date</th>\n",
              "    </tr>\n",
              "    <tr>\n",
              "      <th>Date</th>\n",
              "      <th></th>\n",
              "      <th></th>\n",
              "      <th></th>\n",
              "      <th></th>\n",
              "      <th></th>\n",
              "      <th></th>\n",
              "      <th></th>\n",
              "      <th></th>\n",
              "      <th></th>\n",
              "      <th></th>\n",
              "      <th></th>\n",
              "      <th></th>\n",
              "      <th></th>\n",
              "      <th></th>\n",
              "      <th></th>\n",
              "      <th></th>\n",
              "      <th></th>\n",
              "      <th></th>\n",
              "      <th></th>\n",
              "      <th></th>\n",
              "    </tr>\n",
              "  </thead>\n",
              "  <tbody>\n",
              "    <tr>\n",
              "      <th>2019-08-01 00:00:00</th>\n",
              "      <td>2019-08-01 00:00:00</td>\n",
              "      <td>7.518632</td>\n",
              "      <td>8.788315</td>\n",
              "      <td>0.0</td>\n",
              "      <td>0.0</td>\n",
              "      <td>2.617045</td>\n",
              "      <td>4.079041</td>\n",
              "      <td>2.782276</td>\n",
              "      <td>4.624447</td>\n",
              "      <td>5.222060</td>\n",
              "      <td>2.151238</td>\n",
              "      <td>1.585072</td>\n",
              "      <td>0.560373</td>\n",
              "      <td>3.142941</td>\n",
              "      <td>2.749470</td>\n",
              "      <td>5.417774</td>\n",
              "      <td>4.113460</td>\n",
              "      <td>3.305072</td>\n",
              "      <td>6.735981</td>\n",
              "      <td>2019-08-01 00:00:00</td>\n",
              "    </tr>\n",
              "    <tr>\n",
              "      <th>2019-08-01 00:01:00</th>\n",
              "      <td>2019-08-01 00:01:00</td>\n",
              "      <td>NaN</td>\n",
              "      <td>NaN</td>\n",
              "      <td>NaN</td>\n",
              "      <td>NaN</td>\n",
              "      <td>NaN</td>\n",
              "      <td>NaN</td>\n",
              "      <td>NaN</td>\n",
              "      <td>NaN</td>\n",
              "      <td>NaN</td>\n",
              "      <td>NaN</td>\n",
              "      <td>NaN</td>\n",
              "      <td>NaN</td>\n",
              "      <td>NaN</td>\n",
              "      <td>NaN</td>\n",
              "      <td>NaN</td>\n",
              "      <td>NaN</td>\n",
              "      <td>NaN</td>\n",
              "      <td>NaN</td>\n",
              "      <td>2019-08-01 00:01:00</td>\n",
              "    </tr>\n",
              "    <tr>\n",
              "      <th>2019-08-01 00:02:00</th>\n",
              "      <td>2019-08-01 00:02:00</td>\n",
              "      <td>7.426114</td>\n",
              "      <td>8.940615</td>\n",
              "      <td>0.0</td>\n",
              "      <td>0.0</td>\n",
              "      <td>2.581625</td>\n",
              "      <td>3.781231</td>\n",
              "      <td>2.529366</td>\n",
              "      <td>5.057423</td>\n",
              "      <td>5.349465</td>\n",
              "      <td>2.414715</td>\n",
              "      <td>2.168184</td>\n",
              "      <td>1.818730</td>\n",
              "      <td>3.085110</td>\n",
              "      <td>2.720484</td>\n",
              "      <td>3.302422</td>\n",
              "      <td>3.986483</td>\n",
              "      <td>3.220588</td>\n",
              "      <td>6.379500</td>\n",
              "      <td>2019-08-01 00:02:00</td>\n",
              "    </tr>\n",
              "    <tr>\n",
              "      <th>2019-08-01 00:03:00</th>\n",
              "      <td>2019-08-01 00:03:00</td>\n",
              "      <td>NaN</td>\n",
              "      <td>NaN</td>\n",
              "      <td>NaN</td>\n",
              "      <td>NaN</td>\n",
              "      <td>NaN</td>\n",
              "      <td>NaN</td>\n",
              "      <td>NaN</td>\n",
              "      <td>NaN</td>\n",
              "      <td>NaN</td>\n",
              "      <td>NaN</td>\n",
              "      <td>NaN</td>\n",
              "      <td>NaN</td>\n",
              "      <td>NaN</td>\n",
              "      <td>NaN</td>\n",
              "      <td>NaN</td>\n",
              "      <td>NaN</td>\n",
              "      <td>NaN</td>\n",
              "      <td>NaN</td>\n",
              "      <td>2019-08-01 00:03:00</td>\n",
              "    </tr>\n",
              "    <tr>\n",
              "      <th>2019-08-01 00:04:00</th>\n",
              "      <td>2019-08-01 00:04:00</td>\n",
              "      <td>7.052986</td>\n",
              "      <td>9.161103</td>\n",
              "      <td>0.0</td>\n",
              "      <td>0.0</td>\n",
              "      <td>2.592095</td>\n",
              "      <td>3.800127</td>\n",
              "      <td>2.332304</td>\n",
              "      <td>6.322521</td>\n",
              "      <td>3.995392</td>\n",
              "      <td>2.237114</td>\n",
              "      <td>3.345624</td>\n",
              "      <td>2.310409</td>\n",
              "      <td>3.132799</td>\n",
              "      <td>2.676861</td>\n",
              "      <td>3.539026</td>\n",
              "      <td>3.797881</td>\n",
              "      <td>3.131560</td>\n",
              "      <td>6.363475</td>\n",
              "      <td>2019-08-01 00:04:00</td>\n",
              "    </tr>\n",
              "  </tbody>\n",
              "</table>\n",
              "</div>"
            ],
            "text/plain": [
              "                                       0  ...                Date\n",
              "Date                                      ...                    \n",
              "2019-08-01 00:00:00  2019-08-01 00:00:00  ... 2019-08-01 00:00:00\n",
              "2019-08-01 00:01:00  2019-08-01 00:01:00  ... 2019-08-01 00:01:00\n",
              "2019-08-01 00:02:00  2019-08-01 00:02:00  ... 2019-08-01 00:02:00\n",
              "2019-08-01 00:03:00  2019-08-01 00:03:00  ... 2019-08-01 00:03:00\n",
              "2019-08-01 00:04:00  2019-08-01 00:04:00  ... 2019-08-01 00:04:00\n",
              "\n",
              "[5 rows x 20 columns]"
            ]
          },
          "metadata": {},
          "execution_count": 12
        }
      ]
    },
    {
      "cell_type": "code",
      "metadata": {
        "id": "RW2c2ga9lbDM"
      },
      "source": [
        "#removing the unnecessary \n",
        "df.drop(['0','Date'],axis=1,inplace=True)\n"
      ],
      "execution_count": null,
      "outputs": []
    },
    {
      "cell_type": "code",
      "metadata": {
        "colab": {
          "base_uri": "https://localhost:8080/",
          "height": 459
        },
        "id": "dNfNl_OwlbDN",
        "outputId": "3d0f6039-f947-41d4-d908-99a2c9ff35f1"
      },
      "source": [
        "#removing all rows with Nan values for all columns(ACs)\n",
        "\n",
        "df.dropna(axis=0,how='all',inplace=True)\n",
        "df.head()"
      ],
      "execution_count": null,
      "outputs": [
        {
          "output_type": "stream",
          "name": "stderr",
          "text": [
            "INFO:numexpr.utils:NumExpr defaulting to 2 threads.\n"
          ]
        },
        {
          "output_type": "execute_result",
          "data": {
            "text/html": [
              "<div>\n",
              "<style scoped>\n",
              "    .dataframe tbody tr th:only-of-type {\n",
              "        vertical-align: middle;\n",
              "    }\n",
              "\n",
              "    .dataframe tbody tr th {\n",
              "        vertical-align: top;\n",
              "    }\n",
              "\n",
              "    .dataframe thead th {\n",
              "        text-align: right;\n",
              "    }\n",
              "</style>\n",
              "<table border=\"1\" class=\"dataframe\">\n",
              "  <thead>\n",
              "    <tr style=\"text-align: right;\">\n",
              "      <th></th>\n",
              "      <th>AC 1</th>\n",
              "      <th>AC 2</th>\n",
              "      <th>AC 3</th>\n",
              "      <th>AC 4</th>\n",
              "      <th>AC 5</th>\n",
              "      <th>AC 6</th>\n",
              "      <th>AC 7</th>\n",
              "      <th>AC 8</th>\n",
              "      <th>AC 9</th>\n",
              "      <th>AC 10</th>\n",
              "      <th>AC 11</th>\n",
              "      <th>AC 12</th>\n",
              "      <th>AC 13</th>\n",
              "      <th>AC 14</th>\n",
              "      <th>AC 15</th>\n",
              "      <th>AC 16</th>\n",
              "      <th>AC 17</th>\n",
              "      <th>AC 18</th>\n",
              "    </tr>\n",
              "    <tr>\n",
              "      <th>Date</th>\n",
              "      <th></th>\n",
              "      <th></th>\n",
              "      <th></th>\n",
              "      <th></th>\n",
              "      <th></th>\n",
              "      <th></th>\n",
              "      <th></th>\n",
              "      <th></th>\n",
              "      <th></th>\n",
              "      <th></th>\n",
              "      <th></th>\n",
              "      <th></th>\n",
              "      <th></th>\n",
              "      <th></th>\n",
              "      <th></th>\n",
              "      <th></th>\n",
              "      <th></th>\n",
              "      <th></th>\n",
              "    </tr>\n",
              "  </thead>\n",
              "  <tbody>\n",
              "    <tr>\n",
              "      <th>2019-08-01 00:00:00</th>\n",
              "      <td>7.518632</td>\n",
              "      <td>8.788315</td>\n",
              "      <td>0.0</td>\n",
              "      <td>0.0</td>\n",
              "      <td>2.617045</td>\n",
              "      <td>4.079041</td>\n",
              "      <td>2.782276</td>\n",
              "      <td>4.624447</td>\n",
              "      <td>5.222060</td>\n",
              "      <td>2.151238</td>\n",
              "      <td>1.585072</td>\n",
              "      <td>0.560373</td>\n",
              "      <td>3.142941</td>\n",
              "      <td>2.749470</td>\n",
              "      <td>5.417774</td>\n",
              "      <td>4.113460</td>\n",
              "      <td>3.305072</td>\n",
              "      <td>6.735981</td>\n",
              "    </tr>\n",
              "    <tr>\n",
              "      <th>2019-08-01 00:02:00</th>\n",
              "      <td>7.426114</td>\n",
              "      <td>8.940615</td>\n",
              "      <td>0.0</td>\n",
              "      <td>0.0</td>\n",
              "      <td>2.581625</td>\n",
              "      <td>3.781231</td>\n",
              "      <td>2.529366</td>\n",
              "      <td>5.057423</td>\n",
              "      <td>5.349465</td>\n",
              "      <td>2.414715</td>\n",
              "      <td>2.168184</td>\n",
              "      <td>1.818730</td>\n",
              "      <td>3.085110</td>\n",
              "      <td>2.720484</td>\n",
              "      <td>3.302422</td>\n",
              "      <td>3.986483</td>\n",
              "      <td>3.220588</td>\n",
              "      <td>6.379500</td>\n",
              "    </tr>\n",
              "    <tr>\n",
              "      <th>2019-08-01 00:04:00</th>\n",
              "      <td>7.052986</td>\n",
              "      <td>9.161103</td>\n",
              "      <td>0.0</td>\n",
              "      <td>0.0</td>\n",
              "      <td>2.592095</td>\n",
              "      <td>3.800127</td>\n",
              "      <td>2.332304</td>\n",
              "      <td>6.322521</td>\n",
              "      <td>3.995392</td>\n",
              "      <td>2.237114</td>\n",
              "      <td>3.345624</td>\n",
              "      <td>2.310409</td>\n",
              "      <td>3.132799</td>\n",
              "      <td>2.676861</td>\n",
              "      <td>3.539026</td>\n",
              "      <td>3.797881</td>\n",
              "      <td>3.131560</td>\n",
              "      <td>6.363475</td>\n",
              "    </tr>\n",
              "    <tr>\n",
              "      <th>2019-08-01 00:06:00</th>\n",
              "      <td>6.665446</td>\n",
              "      <td>9.065626</td>\n",
              "      <td>0.0</td>\n",
              "      <td>0.0</td>\n",
              "      <td>2.575639</td>\n",
              "      <td>3.772891</td>\n",
              "      <td>2.596200</td>\n",
              "      <td>5.805132</td>\n",
              "      <td>3.553778</td>\n",
              "      <td>1.878356</td>\n",
              "      <td>2.737645</td>\n",
              "      <td>2.510972</td>\n",
              "      <td>3.090007</td>\n",
              "      <td>2.666604</td>\n",
              "      <td>4.607439</td>\n",
              "      <td>3.062610</td>\n",
              "      <td>3.063953</td>\n",
              "      <td>6.127366</td>\n",
              "    </tr>\n",
              "    <tr>\n",
              "      <th>2019-08-01 00:08:00</th>\n",
              "      <td>6.674838</td>\n",
              "      <td>9.096130</td>\n",
              "      <td>0.0</td>\n",
              "      <td>0.0</td>\n",
              "      <td>2.021472</td>\n",
              "      <td>3.155697</td>\n",
              "      <td>2.845417</td>\n",
              "      <td>6.315060</td>\n",
              "      <td>3.042244</td>\n",
              "      <td>1.914650</td>\n",
              "      <td>2.452500</td>\n",
              "      <td>2.171791</td>\n",
              "      <td>3.097202</td>\n",
              "      <td>2.710572</td>\n",
              "      <td>5.332696</td>\n",
              "      <td>2.640150</td>\n",
              "      <td>2.864680</td>\n",
              "      <td>5.662474</td>\n",
              "    </tr>\n",
              "  </tbody>\n",
              "</table>\n",
              "</div>"
            ],
            "text/plain": [
              "                         AC 1      AC 2  AC 3  ...     AC 16     AC 17     AC 18\n",
              "Date                                           ...                              \n",
              "2019-08-01 00:00:00  7.518632  8.788315   0.0  ...  4.113460  3.305072  6.735981\n",
              "2019-08-01 00:02:00  7.426114  8.940615   0.0  ...  3.986483  3.220588  6.379500\n",
              "2019-08-01 00:04:00  7.052986  9.161103   0.0  ...  3.797881  3.131560  6.363475\n",
              "2019-08-01 00:06:00  6.665446  9.065626   0.0  ...  3.062610  3.063953  6.127366\n",
              "2019-08-01 00:08:00  6.674838  9.096130   0.0  ...  2.640150  2.864680  5.662474\n",
              "\n",
              "[5 rows x 18 columns]"
            ]
          },
          "metadata": {},
          "execution_count": 14
        }
      ]
    },
    {
      "cell_type": "code",
      "metadata": {
        "colab": {
          "base_uri": "https://localhost:8080/"
        },
        "id": "BrH3Vx4VlbDO",
        "outputId": "6d6a97f3-eb05-471b-8486-44cb7c4bcf74"
      },
      "source": [
        "#check the size of dataset now\n",
        "\n",
        "df.shape"
      ],
      "execution_count": null,
      "outputs": [
        {
          "output_type": "execute_result",
          "data": {
            "text/plain": [
              "(51979, 18)"
            ]
          },
          "metadata": {},
          "execution_count": 15
        }
      ]
    },
    {
      "cell_type": "code",
      "metadata": {
        "colab": {
          "base_uri": "https://localhost:8080/"
        },
        "id": "hncgwqHDlbDO",
        "outputId": "6a78c81d-9030-4ccf-80ce-771f9299bfa1"
      },
      "source": [
        "# check for null value:\n",
        "\n",
        "df.isnull().sum()"
      ],
      "execution_count": null,
      "outputs": [
        {
          "output_type": "execute_result",
          "data": {
            "text/plain": [
              "AC 1     8271\n",
              "AC 2     8268\n",
              "AC 3     8266\n",
              "AC 4     8275\n",
              "AC 5     8263\n",
              "AC 6     8262\n",
              "AC 7     8300\n",
              "AC 8     8275\n",
              "AC 9     8325\n",
              "AC 10    8289\n",
              "AC 11    8309\n",
              "AC 12    8266\n",
              "AC 13    8260\n",
              "AC 14    8283\n",
              "AC 15    8264\n",
              "AC 16    8269\n",
              "AC 17    8265\n",
              "AC 18    8256\n",
              "dtype: int64"
            ]
          },
          "metadata": {},
          "execution_count": 16
        }
      ]
    },
    {
      "cell_type": "markdown",
      "metadata": {
        "id": "KCxgzaYHlbDP"
      },
      "source": [
        "null values handling (for ACs dataframe): Assuming each value in respective AC column refers to power consumed in watts each minute interval.\n",
        "\n",
        "fill every null value with last non-null value as AC power consumption is usually constant for an hour period assuming temperature is constant"
      ]
    },
    {
      "cell_type": "code",
      "metadata": {
        "colab": {
          "base_uri": "https://localhost:8080/"
        },
        "id": "kR_H0pFNlbDQ",
        "outputId": "5d6d01e9-27b9-4bf5-8c6e-29ae15220131"
      },
      "source": [
        "df = df.fillna(method='bfill')\n",
        "\n",
        "#check again for null value\n",
        "df.isnull().sum()"
      ],
      "execution_count": null,
      "outputs": [
        {
          "output_type": "execute_result",
          "data": {
            "text/plain": [
              "AC 1     0\n",
              "AC 2     0\n",
              "AC 3     0\n",
              "AC 4     0\n",
              "AC 5     0\n",
              "AC 6     0\n",
              "AC 7     0\n",
              "AC 8     0\n",
              "AC 9     0\n",
              "AC 10    0\n",
              "AC 11    0\n",
              "AC 12    0\n",
              "AC 13    0\n",
              "AC 14    0\n",
              "AC 15    0\n",
              "AC 16    0\n",
              "AC 17    0\n",
              "AC 18    0\n",
              "dtype: int64"
            ]
          },
          "metadata": {},
          "execution_count": 17
        }
      ]
    },
    {
      "cell_type": "code",
      "metadata": {
        "colab": {
          "base_uri": "https://localhost:8080/"
        },
        "id": "p6-dcTNklbDR",
        "outputId": "b731d271-49d1-425e-faa1-5bab2cb7a13f"
      },
      "source": [
        "#creating new feature for total power of all the AC's at a given time\n",
        "df['Total']= df.sum(axis=1)\n",
        "df['Total'].head()"
      ],
      "execution_count": null,
      "outputs": [
        {
          "output_type": "execute_result",
          "data": {
            "text/plain": [
              "Date\n",
              "2019-08-01 00:00:00    65.393197\n",
              "2019-08-01 00:02:00    64.762056\n",
              "2019-08-01 00:04:00    65.791277\n",
              "2019-08-01 00:06:00    63.779666\n",
              "2019-08-01 00:08:00    61.997570\n",
              "Name: Total, dtype: float64"
            ]
          },
          "metadata": {},
          "execution_count": 18
        }
      ]
    },
    {
      "cell_type": "markdown",
      "metadata": {
        "id": "L1i6h5oWlbDR"
      },
      "source": [
        "As only Hourly temperature data was accesible to us, let's copy this data frame and resample it into Hourly frequancy data."
      ]
    },
    {
      "cell_type": "code",
      "metadata": {
        "id": "5zUrgDF0lbDS"
      },
      "source": [
        "df_min = df.copy()\n"
      ],
      "execution_count": null,
      "outputs": []
    },
    {
      "cell_type": "code",
      "metadata": {
        "scrolled": true,
        "colab": {
          "base_uri": "https://localhost:8080/",
          "height": 425
        },
        "id": "zZeFXVJ0lbDS",
        "outputId": "764ec65b-6f3a-4a5e-e157-306685bdf920"
      },
      "source": [
        "df_h = df.resample('H').sum()\n",
        "df_h.head()\n"
      ],
      "execution_count": null,
      "outputs": [
        {
          "output_type": "execute_result",
          "data": {
            "text/html": [
              "<div>\n",
              "<style scoped>\n",
              "    .dataframe tbody tr th:only-of-type {\n",
              "        vertical-align: middle;\n",
              "    }\n",
              "\n",
              "    .dataframe tbody tr th {\n",
              "        vertical-align: top;\n",
              "    }\n",
              "\n",
              "    .dataframe thead th {\n",
              "        text-align: right;\n",
              "    }\n",
              "</style>\n",
              "<table border=\"1\" class=\"dataframe\">\n",
              "  <thead>\n",
              "    <tr style=\"text-align: right;\">\n",
              "      <th></th>\n",
              "      <th>AC 1</th>\n",
              "      <th>AC 2</th>\n",
              "      <th>AC 3</th>\n",
              "      <th>AC 4</th>\n",
              "      <th>AC 5</th>\n",
              "      <th>AC 6</th>\n",
              "      <th>AC 7</th>\n",
              "      <th>AC 8</th>\n",
              "      <th>AC 9</th>\n",
              "      <th>AC 10</th>\n",
              "      <th>AC 11</th>\n",
              "      <th>AC 12</th>\n",
              "      <th>AC 13</th>\n",
              "      <th>AC 14</th>\n",
              "      <th>AC 15</th>\n",
              "      <th>AC 16</th>\n",
              "      <th>AC 17</th>\n",
              "      <th>AC 18</th>\n",
              "      <th>Total</th>\n",
              "    </tr>\n",
              "    <tr>\n",
              "      <th>Date</th>\n",
              "      <th></th>\n",
              "      <th></th>\n",
              "      <th></th>\n",
              "      <th></th>\n",
              "      <th></th>\n",
              "      <th></th>\n",
              "      <th></th>\n",
              "      <th></th>\n",
              "      <th></th>\n",
              "      <th></th>\n",
              "      <th></th>\n",
              "      <th></th>\n",
              "      <th></th>\n",
              "      <th></th>\n",
              "      <th></th>\n",
              "      <th></th>\n",
              "      <th></th>\n",
              "      <th></th>\n",
              "      <th></th>\n",
              "    </tr>\n",
              "  </thead>\n",
              "  <tbody>\n",
              "    <tr>\n",
              "      <th>2019-08-01 00:00:00</th>\n",
              "      <td>205.245213</td>\n",
              "      <td>255.051086</td>\n",
              "      <td>54.055665</td>\n",
              "      <td>29.255579</td>\n",
              "      <td>66.960217</td>\n",
              "      <td>129.089322</td>\n",
              "      <td>80.320214</td>\n",
              "      <td>144.775203</td>\n",
              "      <td>109.584198</td>\n",
              "      <td>76.679951</td>\n",
              "      <td>49.562069</td>\n",
              "      <td>60.468362</td>\n",
              "      <td>140.845082</td>\n",
              "      <td>155.979765</td>\n",
              "      <td>169.555986</td>\n",
              "      <td>127.322558</td>\n",
              "      <td>78.980852</td>\n",
              "      <td>155.175165</td>\n",
              "      <td>2088.906487</td>\n",
              "    </tr>\n",
              "    <tr>\n",
              "      <th>2019-08-01 01:00:00</th>\n",
              "      <td>222.230520</td>\n",
              "      <td>253.772243</td>\n",
              "      <td>44.703934</td>\n",
              "      <td>55.266208</td>\n",
              "      <td>67.100296</td>\n",
              "      <td>129.442455</td>\n",
              "      <td>78.308407</td>\n",
              "      <td>133.896818</td>\n",
              "      <td>91.611631</td>\n",
              "      <td>79.768370</td>\n",
              "      <td>40.995962</td>\n",
              "      <td>56.617563</td>\n",
              "      <td>153.261319</td>\n",
              "      <td>170.970917</td>\n",
              "      <td>178.268818</td>\n",
              "      <td>138.366769</td>\n",
              "      <td>77.406406</td>\n",
              "      <td>119.129358</td>\n",
              "      <td>2091.117996</td>\n",
              "    </tr>\n",
              "    <tr>\n",
              "      <th>2019-08-01 02:00:00</th>\n",
              "      <td>220.526540</td>\n",
              "      <td>243.397378</td>\n",
              "      <td>44.469689</td>\n",
              "      <td>43.961705</td>\n",
              "      <td>59.740380</td>\n",
              "      <td>126.486130</td>\n",
              "      <td>82.591836</td>\n",
              "      <td>114.041240</td>\n",
              "      <td>93.468669</td>\n",
              "      <td>84.098961</td>\n",
              "      <td>45.848432</td>\n",
              "      <td>57.599295</td>\n",
              "      <td>121.038297</td>\n",
              "      <td>150.682456</td>\n",
              "      <td>186.419658</td>\n",
              "      <td>158.015012</td>\n",
              "      <td>82.047850</td>\n",
              "      <td>118.498018</td>\n",
              "      <td>2032.931547</td>\n",
              "    </tr>\n",
              "    <tr>\n",
              "      <th>2019-08-01 03:00:00</th>\n",
              "      <td>199.178419</td>\n",
              "      <td>237.699376</td>\n",
              "      <td>67.146196</td>\n",
              "      <td>43.220318</td>\n",
              "      <td>62.731445</td>\n",
              "      <td>142.045032</td>\n",
              "      <td>91.343533</td>\n",
              "      <td>116.870897</td>\n",
              "      <td>85.345919</td>\n",
              "      <td>81.955078</td>\n",
              "      <td>33.652736</td>\n",
              "      <td>50.129603</td>\n",
              "      <td>132.015538</td>\n",
              "      <td>151.033379</td>\n",
              "      <td>148.079304</td>\n",
              "      <td>150.045078</td>\n",
              "      <td>127.160931</td>\n",
              "      <td>116.948596</td>\n",
              "      <td>2036.601380</td>\n",
              "    </tr>\n",
              "    <tr>\n",
              "      <th>2019-08-01 04:00:00</th>\n",
              "      <td>197.929595</td>\n",
              "      <td>219.027004</td>\n",
              "      <td>52.349741</td>\n",
              "      <td>76.439507</td>\n",
              "      <td>56.164297</td>\n",
              "      <td>108.017994</td>\n",
              "      <td>87.555958</td>\n",
              "      <td>113.062609</td>\n",
              "      <td>101.495620</td>\n",
              "      <td>77.929729</td>\n",
              "      <td>36.199177</td>\n",
              "      <td>55.104092</td>\n",
              "      <td>119.186004</td>\n",
              "      <td>128.498585</td>\n",
              "      <td>159.703888</td>\n",
              "      <td>144.357490</td>\n",
              "      <td>125.760260</td>\n",
              "      <td>118.132559</td>\n",
              "      <td>1976.914107</td>\n",
              "    </tr>\n",
              "  </tbody>\n",
              "</table>\n",
              "</div>"
            ],
            "text/plain": [
              "                           AC 1        AC 2  ...       AC 18        Total\n",
              "Date                                         ...                         \n",
              "2019-08-01 00:00:00  205.245213  255.051086  ...  155.175165  2088.906487\n",
              "2019-08-01 01:00:00  222.230520  253.772243  ...  119.129358  2091.117996\n",
              "2019-08-01 02:00:00  220.526540  243.397378  ...  118.498018  2032.931547\n",
              "2019-08-01 03:00:00  199.178419  237.699376  ...  116.948596  2036.601380\n",
              "2019-08-01 04:00:00  197.929595  219.027004  ...  118.132559  1976.914107\n",
              "\n",
              "[5 rows x 19 columns]"
            ]
          },
          "metadata": {},
          "execution_count": 20
        }
      ]
    },
    {
      "cell_type": "markdown",
      "metadata": {
        "id": "QMpLwmDklbDT"
      },
      "source": [
        "# Q1: Identify patterns/trends in the data?"
      ]
    },
    {
      "cell_type": "code",
      "metadata": {
        "colab": {
          "base_uri": "https://localhost:8080/",
          "height": 318
        },
        "id": "L87-ZrzUlbDT",
        "outputId": "301fbd53-4b7d-49d1-850c-00ef02264384"
      },
      "source": [
        "#line chart: time(in mins)vs total power consumption\n",
        "df_min['Total'].plot.line(title= 'Total Power VS Time (in mins)')"
      ],
      "execution_count": null,
      "outputs": [
        {
          "output_type": "execute_result",
          "data": {
            "text/plain": [
              "<matplotlib.axes._subplots.AxesSubplot at 0x7efc0812ce50>"
            ]
          },
          "metadata": {},
          "execution_count": 21
        },
        {
          "output_type": "display_data",
          "data": {
            "image/png": "[encoded data removed]",
            "text/plain": [
              "<Figure size 432x288 with 1 Axes>"
            ]
          },
          "metadata": {
            "needs_background": "light"
          }
        }
      ]
    },
    {
      "cell_type": "markdown",
      "metadata": {
        "id": "O9s3a4nVlbDT"
      },
      "source": [
        "line plot of minute frequency data seems to immitate white noise, there are also very instance of zero or very low total power this can be attributed to many AC been switched off at same instance or power outage during those instances\n",
        "\n",
        "let's plot hourly and daily frequency data as well to see what trend emerges on aggregrated basis."
      ]
    },
    {
      "cell_type": "code",
      "metadata": {
        "colab": {
          "base_uri": "https://localhost:8080/",
          "height": 347
        },
        "id": "K4ISagKElbDU",
        "outputId": "a315ad46-5ffd-4c3e-a7b3-d6daa351047a"
      },
      "source": [
        "#line chart: time vs hourly total power consumption\n",
        "df_h['Total'].plot.line(title='Hourly Total Power VS Time')"
      ],
      "execution_count": null,
      "outputs": [
        {
          "output_type": "execute_result",
          "data": {
            "text/plain": [
              "<matplotlib.axes._subplots.AxesSubplot at 0x7efc0725b310>"
            ]
          },
          "metadata": {},
          "execution_count": 22
        },
        {
          "output_type": "display_data",
          "data": {
            "image/png": "[encoded data removed]",
            "text/plain": [
              "<Figure size 432x288 with 1 Axes>"
            ]
          },
          "metadata": {
            "needs_background": "light"
          }
        }
      ]
    },
    {
      "cell_type": "code",
      "metadata": {
        "colab": {
          "base_uri": "https://localhost:8080/",
          "height": 347
        },
        "id": "EnXr5TXNlbDU",
        "outputId": "0e6cebce-d58a-4c79-dbf7-8e050f2680b6"
      },
      "source": [
        "#line chart: time vs daily total power consumption\n",
        "df_d = df.resample('D').sum()\n",
        "df_d['Total'].plot.line(title='Daily Total Power VS Time (in days)')"
      ],
      "execution_count": null,
      "outputs": [
        {
          "output_type": "execute_result",
          "data": {
            "text/plain": [
              "<matplotlib.axes._subplots.AxesSubplot at 0x7efc072516d0>"
            ]
          },
          "metadata": {},
          "execution_count": 23
        },
        {
          "output_type": "display_data",
          "data": {
            "image/png": "[encoded data removed]",
            "text/plain": [
              "<Figure size 432x288 with 1 Axes>"
            ]
          },
          "metadata": {
            "needs_background": "light"
          }
        }
      ]
    },
    {
      "cell_type": "markdown",
      "metadata": {
        "id": "xRaGW1aalbDU"
      },
      "source": [
        "# Q2: Which AC was used the most/least?"
      ]
    },
    {
      "cell_type": "code",
      "metadata": {
        "colab": {
          "base_uri": "https://localhost:8080/"
        },
        "id": "1d_8PGgIlbDV",
        "outputId": "de84eb4f-a19b-4683-b52b-a2717b6c1cab"
      },
      "source": [
        "pw=df_min.iloc[:,0:-1].sum(axis=0)\n",
        "print(pw)\n"
      ],
      "execution_count": null,
      "outputs": [
        {
          "output_type": "stream",
          "name": "stdout",
          "text": [
            "AC 1     123255.475213\n",
            "AC 2     200892.556669\n",
            "AC 3     135751.411287\n",
            "AC 4     127416.586069\n",
            "AC 5      72323.277403\n",
            "AC 6     124107.856938\n",
            "AC 7     156137.939264\n",
            "AC 8     131723.702373\n",
            "AC 9     166571.250737\n",
            "AC 10     79927.151923\n",
            "AC 11    122137.124138\n",
            "AC 12    136153.482776\n",
            "AC 13    221349.514742\n",
            "AC 14    150230.347499\n",
            "AC 15    207642.687509\n",
            "AC 16    146887.338077\n",
            "AC 17    218109.610534\n",
            "AC 18    336287.605156\n",
            "dtype: float64\n"
          ]
        }
      ]
    },
    {
      "cell_type": "code",
      "metadata": {
        "colab": {
          "base_uri": "https://localhost:8080/",
          "height": 304
        },
        "id": "4hLmPck-lbDV",
        "outputId": "f050edcf-61fb-4aa7-e5c2-ce3e1d3e6425"
      },
      "source": [
        "#plotting the summation of power of all AC's\n",
        "ax = pw.plot.bar()\n",
        "print(pw.idxmin(),pw.idxmax())"
      ],
      "execution_count": null,
      "outputs": [
        {
          "output_type": "stream",
          "name": "stdout",
          "text": [
            "AC 5 AC 18\n"
          ]
        },
        {
          "output_type": "display_data",
          "data": {
            "image/png": "[encoded data removed]",
            "text/plain": [
              "<Figure size 432x288 with 1 Axes>"
            ]
          },
          "metadata": {
            "needs_background": "light"
          }
        }
      ]
    },
    {
      "cell_type": "markdown",
      "metadata": {
        "id": "Bx9WoFvalbDV"
      },
      "source": [
        "Hence, AC 5 was used least, and AC 18 was used most"
      ]
    },
    {
      "cell_type": "markdown",
      "metadata": {
        "id": "rgUj1oB7lbDV"
      },
      "source": [
        "# Q4: Using the power data, predict/forecast the power consumption?"
      ]
    },
    {
      "cell_type": "markdown",
      "metadata": {
        "id": "vXakV30glbDV"
      },
      "source": [
        "we will make use of Facebook's prophet library to make prediction both on our stationary data i.e. hourly frequency data as well as daily frequency data"
      ]
    },
    {
      "cell_type": "markdown",
      "metadata": {
        "id": "B3JtHS17lbDW"
      },
      "source": [
        "Predictions of hourly power consumption by ACs in hotel\n",
        "\n",
        "let's make predictions for the next 10 days"
      ]
    },
    {
      "cell_type": "code",
      "metadata": {
        "id": "M3YDfSBVlbDW"
      },
      "source": [
        "from fbprophet import Prophet"
      ],
      "execution_count": null,
      "outputs": []
    },
    {
      "cell_type": "code",
      "metadata": {
        "colab": {
          "base_uri": "https://localhost:8080/"
        },
        "id": "c4tfZ-X0lbDW",
        "outputId": "090ed738-8f37-4ea0-beeb-2bb5cdf36b35"
      },
      "source": [
        "model = Prophet()\n",
        "\n",
        "#let's make trainig dataset\n",
        "col1= pd.Series(df_h.index, name='ds')\n",
        "col2=pd.Series(df_h['Total'].values, name='y')\n",
        "\n",
        "train = pd.concat([col1,col2],axis=1)\n",
        "print(train.tail())\n",
        "\n",
        "model.fit(train)"
      ],
      "execution_count": null,
      "outputs": [
        {
          "output_type": "stream",
          "name": "stderr",
          "text": [
            "INFO:fbprophet:Disabling yearly seasonality. Run prophet with yearly_seasonality=True to override this.\n"
          ]
        },
        {
          "output_type": "stream",
          "name": "stdout",
          "text": [
            "                      ds            y\n",
            "1459 2019-09-30 19:00:00  1332.866198\n",
            "1460 2019-09-30 20:00:00  1484.867963\n",
            "1461 2019-09-30 21:00:00  1441.266326\n",
            "1462 2019-09-30 22:00:00  1731.855844\n",
            "1463 2019-09-30 23:00:00  1706.441444\n"
          ]
        },
        {
          "output_type": "execute_result",
          "data": {
            "text/plain": [
              "<fbprophet.forecaster.Prophet at 0x7efc06ad3350>"
            ]
          },
          "metadata": {},
          "execution_count": 27
        }
      ]
    },
    {
      "cell_type": "code",
      "metadata": {
        "colab": {
          "base_uri": "https://localhost:8080/"
        },
        "id": "ROCJLKRLlbDX",
        "outputId": "cddc2ce1-d8ea-4d31-8acc-ac66df3db1d9"
      },
      "source": [
        "#let's define the forecasting periods i.e. 10 days in future\n",
        "future = model.make_future_dataframe(periods=240, freq='H')\n",
        "print(future.tail())"
      ],
      "execution_count": null,
      "outputs": [
        {
          "output_type": "stream",
          "name": "stdout",
          "text": [
            "                      ds\n",
            "1699 2019-10-10 19:00:00\n",
            "1700 2019-10-10 20:00:00\n",
            "1701 2019-10-10 21:00:00\n",
            "1702 2019-10-10 22:00:00\n",
            "1703 2019-10-10 23:00:00\n"
          ]
        }
      ]
    },
    {
      "cell_type": "code",
      "metadata": {
        "colab": {
          "base_uri": "https://localhost:8080/",
          "height": 204
        },
        "id": "aHLHDycTlbDX",
        "outputId": "040dacd6-2c02-414b-c5e9-c7fa8c9ba6e6"
      },
      "source": [
        "#make predicitons\n",
        "\n",
        "forecast = model.predict(future)\n",
        "forecast[['ds', 'yhat', 'yhat_lower', 'yhat_upper']].head()"
      ],
      "execution_count": null,
      "outputs": [
        {
          "output_type": "execute_result",
          "data": {
            "text/html": [
              "<div>\n",
              "<style scoped>\n",
              "    .dataframe tbody tr th:only-of-type {\n",
              "        vertical-align: middle;\n",
              "    }\n",
              "\n",
              "    .dataframe tbody tr th {\n",
              "        vertical-align: top;\n",
              "    }\n",
              "\n",
              "    .dataframe thead th {\n",
              "        text-align: right;\n",
              "    }\n",
              "</style>\n",
              "<table border=\"1\" class=\"dataframe\">\n",
              "  <thead>\n",
              "    <tr style=\"text-align: right;\">\n",
              "      <th></th>\n",
              "      <th>ds</th>\n",
              "      <th>yhat</th>\n",
              "      <th>yhat_lower</th>\n",
              "      <th>yhat_upper</th>\n",
              "    </tr>\n",
              "  </thead>\n",
              "  <tbody>\n",
              "    <tr>\n",
              "      <th>0</th>\n",
              "      <td>2019-08-01 00:00:00</td>\n",
              "      <td>2354.312715</td>\n",
              "      <td>1840.135205</td>\n",
              "      <td>2856.511030</td>\n",
              "    </tr>\n",
              "    <tr>\n",
              "      <th>1</th>\n",
              "      <td>2019-08-01 01:00:00</td>\n",
              "      <td>2331.809639</td>\n",
              "      <td>1798.840827</td>\n",
              "      <td>2884.694320</td>\n",
              "    </tr>\n",
              "    <tr>\n",
              "      <th>2</th>\n",
              "      <td>2019-08-01 02:00:00</td>\n",
              "      <td>2277.781695</td>\n",
              "      <td>1711.615533</td>\n",
              "      <td>2798.630726</td>\n",
              "    </tr>\n",
              "    <tr>\n",
              "      <th>3</th>\n",
              "      <td>2019-08-01 03:00:00</td>\n",
              "      <td>2239.306917</td>\n",
              "      <td>1710.795417</td>\n",
              "      <td>2755.513393</td>\n",
              "    </tr>\n",
              "    <tr>\n",
              "      <th>4</th>\n",
              "      <td>2019-08-01 04:00:00</td>\n",
              "      <td>2229.665572</td>\n",
              "      <td>1644.298968</td>\n",
              "      <td>2783.984270</td>\n",
              "    </tr>\n",
              "  </tbody>\n",
              "</table>\n",
              "</div>"
            ],
            "text/plain": [
              "                   ds         yhat   yhat_lower   yhat_upper\n",
              "0 2019-08-01 00:00:00  2354.312715  1840.135205  2856.511030\n",
              "1 2019-08-01 01:00:00  2331.809639  1798.840827  2884.694320\n",
              "2 2019-08-01 02:00:00  2277.781695  1711.615533  2798.630726\n",
              "3 2019-08-01 03:00:00  2239.306917  1710.795417  2755.513393\n",
              "4 2019-08-01 04:00:00  2229.665572  1644.298968  2783.984270"
            ]
          },
          "metadata": {},
          "execution_count": 29
        }
      ]
    },
    {
      "cell_type": "code",
      "metadata": {
        "colab": {
          "base_uri": "https://localhost:8080/",
          "height": 347
        },
        "id": "6l1tTAXJlbDX",
        "outputId": "d6f2df5c-2bf7-49e4-d02e-686f896ad36b"
      },
      "source": [
        "forecast.plot.line(y='yhat',x='ds',title='forecast of hourly power consumption')"
      ],
      "execution_count": null,
      "outputs": [
        {
          "output_type": "execute_result",
          "data": {
            "text/plain": [
              "<matplotlib.axes._subplots.AxesSubplot at 0x7efc06ac2950>"
            ]
          },
          "metadata": {},
          "execution_count": 30
        },
        {
          "output_type": "display_data",
          "data": {
            "image/png": "[encoded data removed]",
            "text/plain": [
              "<Figure size 432x288 with 1 Axes>"
            ]
          },
          "metadata": {
            "needs_background": "light"
          }
        }
      ]
    },
    {
      "cell_type": "markdown",
      "metadata": {
        "id": "gP6t1gOZlbDX"
      },
      "source": [
        "Predictions of daily power consumption by ACs in hotel"
      ]
    },
    {
      "cell_type": "code",
      "metadata": {
        "colab": {
          "base_uri": "https://localhost:8080/"
        },
        "id": "7MnR7qnylbDX",
        "outputId": "2ac883e4-cb96-4ebb-9958-131f42f4f140"
      },
      "source": [
        "model = Prophet()\n",
        "\n",
        "#let's make trainig dataset\n",
        "col1= pd.Series(df_d.index, name='ds')\n",
        "col2=pd.Series(df_d['Total'].values, name='y')\n",
        "\n",
        "train = pd.concat([col1,col2],axis=1)\n",
        "print(train.tail())\n",
        "\n",
        "model.fit(train)"
      ],
      "execution_count": null,
      "outputs": [
        {
          "output_type": "stream",
          "name": "stderr",
          "text": [
            "INFO:fbprophet:Disabling yearly seasonality. Run prophet with yearly_seasonality=True to override this.\n",
            "INFO:fbprophet:Disabling daily seasonality. Run prophet with daily_seasonality=True to override this.\n"
          ]
        },
        {
          "output_type": "stream",
          "name": "stdout",
          "text": [
            "           ds             y\n",
            "56 2019-09-26  41257.332107\n",
            "57 2019-09-27  36872.243450\n",
            "58 2019-09-28  30466.515886\n",
            "59 2019-09-29  28691.295941\n",
            "60 2019-09-30  30531.448230\n"
          ]
        },
        {
          "output_type": "execute_result",
          "data": {
            "text/plain": [
              "<fbprophet.forecaster.Prophet at 0x7efc06ae8710>"
            ]
          },
          "metadata": {},
          "execution_count": 31
        }
      ]
    },
    {
      "cell_type": "code",
      "metadata": {
        "colab": {
          "base_uri": "https://localhost:8080/"
        },
        "id": "h23Cy74OlbDY",
        "outputId": "a17d0c6c-7658-4a6a-a43f-a0faba27d665"
      },
      "source": [
        "#let's define the forecasting periods i.e. 10 days in future\n",
        "future = model.make_future_dataframe(periods=10)\n",
        "print(future.tail())"
      ],
      "execution_count": null,
      "outputs": [
        {
          "output_type": "stream",
          "name": "stdout",
          "text": [
            "           ds\n",
            "66 2019-10-06\n",
            "67 2019-10-07\n",
            "68 2019-10-08\n",
            "69 2019-10-09\n",
            "70 2019-10-10\n"
          ]
        }
      ]
    },
    {
      "cell_type": "code",
      "metadata": {
        "colab": {
          "base_uri": "https://localhost:8080/",
          "height": 204
        },
        "id": "F9vBClZZlbDY",
        "outputId": "b7172267-a1cd-49eb-9c55-64c2726d4b09"
      },
      "source": [
        "#make predicitons\n",
        "\n",
        "forecast = model.predict(future)\n",
        "forecast[['ds', 'yhat', 'yhat_lower', 'yhat_upper']].head()"
      ],
      "execution_count": null,
      "outputs": [
        {
          "output_type": "execute_result",
          "data": {
            "text/html": [
              "<div>\n",
              "<style scoped>\n",
              "    .dataframe tbody tr th:only-of-type {\n",
              "        vertical-align: middle;\n",
              "    }\n",
              "\n",
              "    .dataframe tbody tr th {\n",
              "        vertical-align: top;\n",
              "    }\n",
              "\n",
              "    .dataframe thead th {\n",
              "        text-align: right;\n",
              "    }\n",
              "</style>\n",
              "<table border=\"1\" class=\"dataframe\">\n",
              "  <thead>\n",
              "    <tr style=\"text-align: right;\">\n",
              "      <th></th>\n",
              "      <th>ds</th>\n",
              "      <th>yhat</th>\n",
              "      <th>yhat_lower</th>\n",
              "      <th>yhat_upper</th>\n",
              "    </tr>\n",
              "  </thead>\n",
              "  <tbody>\n",
              "    <tr>\n",
              "      <th>0</th>\n",
              "      <td>2019-08-01</td>\n",
              "      <td>60439.627431</td>\n",
              "      <td>41140.708551</td>\n",
              "      <td>79186.215742</td>\n",
              "    </tr>\n",
              "    <tr>\n",
              "      <th>1</th>\n",
              "      <td>2019-08-02</td>\n",
              "      <td>54193.390921</td>\n",
              "      <td>36206.864511</td>\n",
              "      <td>72161.473975</td>\n",
              "    </tr>\n",
              "    <tr>\n",
              "      <th>2</th>\n",
              "      <td>2019-08-03</td>\n",
              "      <td>52611.052284</td>\n",
              "      <td>35025.993544</td>\n",
              "      <td>72411.274897</td>\n",
              "    </tr>\n",
              "    <tr>\n",
              "      <th>3</th>\n",
              "      <td>2019-08-04</td>\n",
              "      <td>48120.155155</td>\n",
              "      <td>30750.462377</td>\n",
              "      <td>68264.372586</td>\n",
              "    </tr>\n",
              "    <tr>\n",
              "      <th>4</th>\n",
              "      <td>2019-08-05</td>\n",
              "      <td>46673.104414</td>\n",
              "      <td>27910.522280</td>\n",
              "      <td>66378.118143</td>\n",
              "    </tr>\n",
              "  </tbody>\n",
              "</table>\n",
              "</div>"
            ],
            "text/plain": [
              "          ds          yhat    yhat_lower    yhat_upper\n",
              "0 2019-08-01  60439.627431  41140.708551  79186.215742\n",
              "1 2019-08-02  54193.390921  36206.864511  72161.473975\n",
              "2 2019-08-03  52611.052284  35025.993544  72411.274897\n",
              "3 2019-08-04  48120.155155  30750.462377  68264.372586\n",
              "4 2019-08-05  46673.104414  27910.522280  66378.118143"
            ]
          },
          "metadata": {},
          "execution_count": 33
        }
      ]
    },
    {
      "cell_type": "code",
      "metadata": {
        "colab": {
          "base_uri": "https://localhost:8080/",
          "height": 347
        },
        "id": "8-lPL4AAlbDY",
        "outputId": "70f39b41-9d1c-4396-caee-72f9dedb6b7c"
      },
      "source": [
        "forecast.plot.line(y='yhat',x='ds',title='forecast of daily power consumption')"
      ],
      "execution_count": null,
      "outputs": [
        {
          "output_type": "execute_result",
          "data": {
            "text/plain": [
              "<matplotlib.axes._subplots.AxesSubplot at 0x7efbfe149c50>"
            ]
          },
          "metadata": {},
          "execution_count": 34
        },
        {
          "output_type": "display_data",
          "data": {
            "image/png": "[encoded data removed]",
            "text/plain": [
              "<Figure size 432x288 with 1 Axes>"
            ]
          },
          "metadata": {
            "needs_background": "light"
          }
        }
      ]
    }
  ]
}